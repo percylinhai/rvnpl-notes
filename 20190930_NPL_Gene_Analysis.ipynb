{
 "cells": [
  {
   "cell_type": "markdown",
   "metadata": {
    "kernel": "SoS"
   },
   "source": [
    "# RV-NPL analysis for selected genes\n",
    "\n",
    "In this notebook I re-analyze several genes highlighted in the RV-NPL paper, to assess impact of including families with missing LOAD genotypes in parental data."
   ]
  },
  {
   "cell_type": "markdown",
   "metadata": {
    "kernel": "SoS"
   },
   "source": [
    "## Workflow process\n",
    "\n",
    "Here I analyze 6 genes, as hard-coded in this notebook:\n",
    "\n",
    "```\n",
    "sos run 20190930_NPL_Gene_Analysis.ipynb analyze\n",
    "```"
   ]
  },
  {
   "cell_type": "code",
   "execution_count": null,
   "metadata": {
    "kernel": "SoS"
   },
   "outputs": [],
   "source": [
    "[global]\n",
    "parameter: \n",
    "\n",
    "[analyze]\n",
    "rvnpl npl --path /mnt/large_ped_files/whole_exome_NFE_Dutch_filtered_AN_DP_GQ_BOTHpass_missrateByCenter_func_gnomAD_rvhaplo_chr11_allmaf_v0420_v2/SORL1 \\\n",
    "    --exact --info_only --rvibd --n_jobs 8 -c 0.1 --fam_rep 10000 --perfect_max 1000"
   ]
  }
 ],
 "metadata": {
  "kernelspec": {
   "display_name": "SoS",
   "language": "sos",
   "name": "sos"
  },
  "language_info": {
   "codemirror_mode": "sos",
   "file_extension": ".sos",
   "mimetype": "text/x-sos",
   "name": "sos",
   "nbconvert_exporter": "sos_notebook.converter.SoS_Exporter",
   "pygments_lexer": "sos"
  },
  "sos": {
   "kernels": [
    [
     "SoS",
     "sos",
     "",
     ""
    ]
   ],
   "version": "0.20.5"
  }
 },
 "nbformat": 4,
 "nbformat_minor": 4
}
