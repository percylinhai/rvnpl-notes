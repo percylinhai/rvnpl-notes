{
 "cells": [
  {
   "cell_type": "markdown",
   "metadata": {},
   "source": [
    "# Exploring RV-NPL with simulated family data\n",
    "\n",
    "## Overview\n",
    "\n",
    "This page includes the work processes for the simulation analysis for RV-NPL. \n",
    "\n",
    "The workflow contains the processes of \n",
    "\n",
    "1) generating simulated genotypes for families with given affection status \n",
    "\n",
    "2) using RV-NPL to generate CHP regional markers \n",
    "\n",
    "3) performing RV-NPL analysis on families with CHP genotypes \n"
   ]
  },
  {
   "cell_type": "markdown",
   "metadata": {},
   "source": [
    "## Setting up prerequisites\n",
    "SOS and docker need to be installed in your machine before the workflow can be performed.\n",
    "\n",
    "Instructions on the installation can be found at: http://statgen.us/lab-wiki/orientation/jupyter-setup.html#sos-suite\n"
   ]
  },
  {
   "cell_type": "markdown",
   "metadata": {},
   "source": [
    "## Quick Trial\n",
    "\n",
    "First, download the git repository:\n",
    "```\n",
    "git clone https://github.com/percylinhai/rvnpl-notes.git\n",
    "cd rvnpl-notes\n",
    "```\n",
    "\n",
    "After both SOS and docker are successfully installed, try the default command below to run the workflow:\n",
    "```\n",
    "sos run analysis/NPL_Simulation.ipynb simulate\n",
    "```\n",
    "\n",
    "More details on the workflow steps and the parameters can be found in the notebook analysis/NPL_Simulation.ipynb."
   ]
  }
 ],
 "metadata": {
  "kernelspec": {
   "display_name": "Python 3",
   "language": "python",
   "name": "python3"
  },
  "language_info": {
   "codemirror_mode": {
    "name": "ipython",
    "version": 3
   },
   "file_extension": ".py",
   "mimetype": "text/x-python",
   "name": "python",
   "nbconvert_exporter": "python",
   "pygments_lexer": "ipython3",
   "version": "3.7.3"
  }
 },
 "nbformat": 4,
 "nbformat_minor": 2
}
