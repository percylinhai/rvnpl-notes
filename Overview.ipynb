{
 "cells": [
  {
   "cell_type": "markdown",
   "metadata": {},
   "source": [
    "# Exploring RV-NPL\n",
    "This page includes the work processes for both the simulation analysis and real data analysis for RV-NPL. \n",
    "\n",
    "a) The simulation analysis contains the processes of generating simulated genotypes for families with given affection status and using RV-NPL to generate CHP regional markers and do NPL analysis. \n",
    "\n",
    "b) The real data analysis contains the process of using RV-NPL to analyze genes in ADSP pedigrees."
   ]
  }
 ],
 "metadata": {
  "kernelspec": {
   "display_name": "Python 3",
   "language": "python",
   "name": "python3"
  },
  "language_info": {
   "codemirror_mode": {
    "name": "ipython",
    "version": 3
   },
   "file_extension": ".py",
   "mimetype": "text/x-python",
   "name": "python",
   "nbconvert_exporter": "python",
   "pygments_lexer": "ipython3",
   "version": "3.7.3"
  }
 },
 "nbformat": 4,
 "nbformat_minor": 2
}
