{
 "cells": [
  {
   "cell_type": "markdown",
   "metadata": {
    "kernel": "SoS"
   },
   "source": [
    "# RV-NPL analysis for selected genes in ADSP pedigrees\n",
    "\n",
    "In this notebook I re-analyze several genes highlighted in the RV-NPL paper, to show how RV-NPL can be used to analyze real data with high extent of missing data."
   ]
  },
  {
   "cell_type": "markdown",
   "metadata": {
    "kernel": "SoS"
   },
   "source": [
    "## Workflow process\n",
    "\n",
    "Here I analyze one gene (SORL1), as hard-coded in this notebook:\n",
    "\n",
    "```\n",
    "sos run 20190930_NPL_Gene_Analysis.ipynb analyze\n",
    "```"
   ]
  },
  {
   "cell_type": "code",
   "execution_count": 1,
   "metadata": {
    "kernel": "SoS"
   },
   "outputs": [],
   "source": [
    "[global]\n",
    "# Pattern to path that contains the data to analyze\n",
    "parameter: data_dir = '/mnt/large_ped_files/whole_exome_NFE_Dutch_filtered_AN_DP_GQ_BOTHpass_missrateByCenter_func_gnomAD_rvhaplo_[chrom]_allmaf_v0420_v2/'\n",
    "# Genes to analyze, chrom + gene name\n",
    "parameter: genes = [('chr11', 'SORL1')]\n",
    "parameter: out_dir = './'\n",
    "\n",
    "[analyze]\n",
    "depends: executable('rvnpl')\n",
    "input: [data_dir.replace('[chrom]', x[0]) + f'{x[1]}' for x in genes], group_by = 1\n",
    "output: f'{out_dir}/'\n",
    "bash: expand = '${ }'\n",
    "    # here I assume the output will be under the 'out_dir' directory with file name like 'SORL1.out'\n",
    "    rvnpl npl --path ${_input} --output ${_output} --exact --info_only --rvibd --sall --n_jobs 8 -c 0.1 --fam_rep 10000 --perfect_max 1000"
   ]
  },
  {
   "cell_type": "markdown",
   "metadata": {
    "kernel": "SoS"
   },
   "source": [
    "## Results\n",
    "\n",
    "<FIXME: add some results>"
   ]
  }
 ],
 "metadata": {
  "kernelspec": {
   "display_name": "SoS",
   "language": "sos",
   "name": "sos"
  },
  "language_info": {
   "codemirror_mode": "sos",
   "file_extension": ".sos",
   "mimetype": "text/x-sos",
   "name": "sos",
   "nbconvert_exporter": "sos_notebook.converter.SoS_Exporter",
   "pygments_lexer": "sos"
  },
  "sos": {
   "kernels": [
    [
     "SoS",
     "sos",
     "",
     ""
    ]
   ],
   "panel": {
    "displayed": true,
    "height": 0
   },
   "version": "0.20.5"
  }
 },
 "nbformat": 4,
 "nbformat_minor": 4
}
