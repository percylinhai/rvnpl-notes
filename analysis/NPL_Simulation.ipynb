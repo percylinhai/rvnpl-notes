{
 "cells": [
  {
   "cell_type": "code",
   "execution_count": null,
   "metadata": {
    "kernel": "SoS"
   },
   "outputs": [],
   "source": []
  },
  {
   "cell_type": "markdown",
   "metadata": {
    "kernel": "SoS"
   },
   "source": [
    "# RV-NPL analysis for simulated genes\n",
    "\n",
    "In this notebook I simulate family data with genotypes generated conditional on affection status. And use RV-NPL to analyze the simulated families."
   ]
  },
  {
   "cell_type": "markdown",
   "metadata": {
    "kernel": "SoS"
   },
   "source": [
    "## Workflow process\n",
    "\n",
    "Here I analyze one gene (MYO7A), as hard-coded in this notebook:\n",
    "\n",
    "```\n",
    "sos run NPL_Simulation.ipynb analyze\n",
    "```"
   ]
  },
  {
   "cell_type": "code",
   "execution_count": 3,
   "metadata": {
    "kernel": "markdown"
   },
   "outputs": [
    {
     "data": {
      "text/markdown": [
       "First I simulate family data using RarePedSim.\n"
      ]
     },
     "metadata": {},
     "output_type": "display_data"
    }
   ],
   "source": [
    "First I simulate family data using RarePedSim."
   ]
  },
  {
   "cell_type": "code",
   "execution_count": 1,
   "metadata": {
    "kernel": "SoS"
   },
   "outputs": [],
   "source": [
    "[global]\n",
    "# Path to the ped file\n",
    "parameter: ped_file = './data/100extend01.ped'\n",
    "# Variant information for genes to analyze\n",
    "parameter: sfs_file = './data/MYO7A.sfs'\n",
    "# conf file contains the simulation specifications\n",
    "parameter: conf_file = './data/ComplexPhenotype.conf'\n",
    "parameter: out_dir = './data/simulation'\n",
    "\n",
    "[analyze]\n",
    "depends: executable('rarepedsim')\n",
    "output: f'{out_dir}/MYO7A/rep1.vcf'\n",
    "bash: expand = '${ }'\n",
    "    rarepedsim generate -s ${sfs_file} -c ${conf_file} -p ${ped_file} --num_genes 1 --num_reps 1 -o ${out_dir} --vcf --debug -b -1"
   ]
  },
  {
   "cell_type": "markdown",
   "metadata": {
    "kernel": "SoS"
   },
   "source": [
    "## Results\n",
    "\n",
    "<Add Result> "
   ]
  },
  {
   "cell_type": "code",
   "execution_count": null,
   "metadata": {
    "kernel": "SoS"
   },
   "outputs": [],
   "source": []
  }
 ],
 "metadata": {
  "kernelspec": {
   "display_name": "SoS",
   "language": "sos",
   "name": "sos"
  },
  "language_info": {
   "codemirror_mode": "sos",
   "file_extension": ".sos",
   "mimetype": "text/x-sos",
   "name": "sos",
   "nbconvert_exporter": "sos_notebook.converter.SoS_Exporter",
   "pygments_lexer": "sos"
  },
  "sos": {
   "kernels": [
    [
     "SoS",
     "sos",
     "",
     "",
     "sos"
    ],
    [
     "markdown",
     "markdown",
     "markdown",
     "",
     ""
    ]
   ],
   "panel": {
    "displayed": true,
    "height": 0
   },
   "version": "0.20.5"
  }
 },
 "nbformat": 4,
 "nbformat_minor": 4
}
