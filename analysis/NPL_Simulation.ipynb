{
 "cells": [
  {
   "cell_type": "markdown",
   "metadata": {
    "kernel": "SoS"
   },
   "source": [
    "# RV-NPL analysis for simulated genes\n",
    "\n",
    "### Aim\n",
    "In this notebook I show the workflow process to simulate family data with genotypes generated conditional on affection status using RarePedSim. And use RV-NPL to analyze the simulated families."
   ]
  },
  {
   "cell_type": "markdown",
   "metadata": {
    "kernel": "SoS"
   },
   "source": [
    "### Workflow process\n",
    "\n",
    "Here I analyze one gene (MYO7A), as hard-coded in this notebook:\n",
    "\n",
    "```\n",
    "sos run NPL_Simulation.ipynb simulate\n",
    "```"
   ]
  },
  {
   "cell_type": "markdown",
   "metadata": {
    "kernel": "markdown"
   },
   "source": [
    "First I simulate family data using RarePedSim with the output of VCF file. (The parameters are annotated below)"
   ]
  },
  {
   "cell_type": "code",
   "execution_count": 1,
   "metadata": {
    "kernel": "SoS"
   },
   "outputs": [],
   "source": [
    "[global]\n",
    "# Path to the ped file (6-column PED format)\n",
    "parameter: ped_file = './data/100extend01.ped'\n",
    "# Variant information for genes to analyze (sfs format)\n",
    "parameter: sfs_file = './data/MYO7A.sfs'\n",
    "# conf file contains the simulation specifications (either Mendelian or Complex, details in RarePedSim doc)\n",
    "parameter: conf_file = './data/ComplexPhenotype.conf'\n",
    "# the output directory\n",
    "parameter: out_dir = './data/simulation'\n",
    "\n",
    "[simulate]\n",
    "depends: executable('rarepedsim')\n",
    "output: f'{out_dir}/MYO7A/rep1.vcf'\n",
    "bash: expand = '${ }'\n",
    "    rarepedsim generate -s ${sfs_file} -c ${conf_file} -p ${ped_file} --num_genes 1 --num_reps 1 -o ${out_dir} --vcf --debug -b -1\n",
    "    bgzip -c ${_output} > ${_output}.gz\n",
    "    tabix -p vcf ${_output}.gz\n",
    "[collapse]\n",
    "depends: executable('rvnpl')\n",
    "output: f'{out_dir}/MYO7A/rep1/MERLIN/rep1.chr11.ped'\n",
    "bash: expand = '${ }'\n",
    "    rvnpl collapse --fam ${ped_file} --vcf ${out_dir}/MYO7A/rep1.vcf.gz --output ${out_dir}/MYO7A/rep1 --freq EVSMAF -c 0.01 --rvhaplo\n",
    "[npl]\n",
    "depends: executable('rvnpl')\n",
    "output: f'{out_dir}/MYO7A/rep1/pvalue.txt'\n",
    "bash: expand = '${ }'\n",
    "    rvnpl npl --path ${out_dir}/MYO7A/rep1 --output ${out_dir}/MYO7A/rep1 --exact --info_only --perfect --sall --rvibd --n_jobs 8 -c 0.001 --rep 2000000"
   ]
  },
  {
   "cell_type": "markdown",
   "metadata": {
    "kernel": "SoS"
   },
   "source": [
    "### Results\n",
    "\n",
    "<Add Result> "
   ]
  },
  {
   "cell_type": "code",
   "execution_count": null,
   "metadata": {
    "kernel": "SoS"
   },
   "outputs": [],
   "source": []
  }
 ],
 "metadata": {
  "kernelspec": {
   "display_name": "SoS",
   "language": "sos",
   "name": "sos"
  },
  "language_info": {
   "codemirror_mode": "sos",
   "file_extension": ".sos",
   "mimetype": "text/x-sos",
   "name": "sos",
   "nbconvert_exporter": "sos_notebook.converter.SoS_Exporter",
   "pygments_lexer": "sos"
  },
  "sos": {
   "kernels": [
    [
     "SoS",
     "sos",
     "",
     "",
     "sos"
    ],
    [
     "markdown",
     "markdown",
     "markdown",
     "",
     ""
    ]
   ],
   "panel": {
    "displayed": true,
    "height": 0
   },
   "version": "0.20.5"
  }
 },
 "nbformat": 4,
 "nbformat_minor": 4
}
