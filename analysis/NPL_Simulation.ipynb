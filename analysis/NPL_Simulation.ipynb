{
 "cells": [
  {
   "cell_type": "markdown",
   "metadata": {
    "kernel": "SoS"
   },
   "source": [
    "# RV-NPL analysis for simulated genes\n",
    "\n",
    "### Aim\n",
    "In this notebook I show the workflow process to simulate family data with genotypes generated conditional on affection status using RarePedSim. And use RV-NPL to analyze the simulated families."
   ]
  },
  {
   "cell_type": "markdown",
   "metadata": {
    "kernel": "SoS"
   },
   "source": [
    "### Method&Workflow overview\n",
    "\n",
    "Here I analyze one gene (MYO7A):"
   ]
  },
  {
   "cell_type": "markdown",
   "metadata": {
    "kernel": "markdown"
   },
   "source": [
    "1) I first simulate family data using RarePedSim with the output of VCF file. (The parameters are annotated below)\n",
    "\n",
    "\n",
    "2) Then use \"collapse\" command from rvnpl to generate CHP regional markers for the genotypes in pedigrees\n",
    "\n",
    "\n",
    "3) Finally, use \"npl\" command from rvnpl to analyze RV-NPL score on the genotypes for CHP markers\n",
    "\n",
    "The workflow can be executed by doing the following command:\n",
    "```\n",
    "sos run NPL_Simulation.ipynb simulation\n",
    "```"
   ]
  },
  {
   "cell_type": "markdown",
   "metadata": {
    "kernel": "SoS"
   },
   "source": [
    "### Input Data\n",
    "1) The PED file containing information of families\n",
    "2) The SFS file containing the variant information for the simulated gene\n",
    "3) The configuration file"
   ]
  },
  {
   "cell_type": "markdown",
   "metadata": {
    "kernel": "SoS"
   },
   "source": [
    "### Global Parameter Setting"
   ]
  },
  {
   "cell_type": "code",
   "execution_count": 1,
   "metadata": {
    "kernel": "SoS"
   },
   "outputs": [],
   "source": [
    "[global]\n",
    "# Path to the ped file (6-column PED format)\n",
    "parameter: ped_file = './data/100extend01.ped'\n",
    "# gene name and chromosome\n",
    "parameter: gene = 'MYO7A'\n",
    "parameter: chromosome = 'chr11'\n",
    "# Variant information for genes to analyze (sfs format)\n",
    "parameter: sfs_file = './data/MYO7A.sfs'\n",
    "# conf file contains the simulation specifications (either Mendelian or Complex, details in RarePedSim doc)\n",
    "# for this notebook, we use the same conf file with multiplicative model\n",
    "parameter: conf_file = './data/ComplexPhenotype.conf'\n",
    "# the output directory for VCF file\n",
    "parameter: out_dir = './data/simulation'\n"
   ]
  },
  {
   "cell_type": "markdown",
   "metadata": {
    "kernel": "SoS"
   },
   "source": [
    "### Generate genotypes for given families\n",
    "Here, we use RarePedSim to generate genotypes for families with given affection status based on user-specified disease model in the configuration file. \n",
    "\n",
    "The output file is a VCF file and we need to tabix it before the next step."
   ]
  },
  {
   "cell_type": "code",
   "execution_count": null,
   "metadata": {
    "kernel": "SoS"
   },
   "outputs": [],
   "source": [
    "[simulation_1]\n",
    "depends: executable('rarepedsim')\n",
    "output: f'{out_dir}/{gene}/rep1.vcf.gz'\n",
    "bash: expand = '${ }'\n",
    "    rarepedsim generate -s ${sfs_file} -c ${conf_file} -p ${ped_file} --num_genes 1 --num_reps 1 -o ${out_dir} --vcf --debug -b -1\n",
    "    bgzip ${_output:n}\n",
    "    tabix -p vcf ${_output}"
   ]
  },
  {
   "cell_type": "markdown",
   "metadata": {
    "kernel": "SoS"
   },
   "source": [
    "### Generate CHP regional marker\n",
    "The next step is to use RV-NPL to generate CHP regional markers for the genotypes in families."
   ]
  },
  {
   "cell_type": "code",
   "execution_count": null,
   "metadata": {
    "kernel": "SoS"
   },
   "outputs": [],
   "source": [
    "[simulation_2]\n",
    "depends: executable('rvnpl')\n",
    "output: f'{out_dir}/{gene}/rep1/MERLIN/rep1.{chromosome}.ped'\n",
    "bash: expand = '${ }'\n",
    "    rvnpl collapse --fam ${ped_file} --vcf ${out_dir}/${gene}/rep1.vcf.gz --output ${out_dir}/${gene}/rep1 --freq EVSMAF -c 0.01 --rvhaplo"
   ]
  },
  {
   "cell_type": "markdown",
   "metadata": {
    "kernel": "SoS"
   },
   "source": [
    "### Perform RV-NPL analysis\n",
    "Finally, we use RV-NPL to analyze the CHP genotypes to get the significance of allele-sharing on rare variants in the families."
   ]
  },
  {
   "cell_type": "code",
   "execution_count": null,
   "metadata": {
    "kernel": "SoS"
   },
   "outputs": [],
   "source": [
    "[simulation_3]\n",
    "depends: executable('rvnpl')\n",
    "output: f'{out_dir}/{gene}/rep1/pvalue.txt'\n",
    "bash: expand = '${ }'\n",
    "    rvnpl npl --path ${out_dir}/${gene}/rep1 --output ${out_dir}/${gene}/rep1 --exact --info_only --perfect --sall --rvibd --n_jobs 8 -c 0.001 --rep 2000000 -v 0"
   ]
  },
  {
   "cell_type": "markdown",
   "metadata": {
    "kernel": "SoS"
   },
   "source": [
    "### Results\n",
    "\n",
    "<Add Result> "
   ]
  },
  {
   "cell_type": "markdown",
   "metadata": {
    "kernel": "SoS"
   },
   "source": [
    "The p-values for two NPL scores are presented in file pvalue.txt under the output directory."
   ]
  },
  {
   "cell_type": "code",
   "execution_count": null,
   "metadata": {
    "kernel": "SoS"
   },
   "outputs": [],
   "source": []
  }
 ],
 "metadata": {
  "kernelspec": {
   "display_name": "SoS",
   "language": "sos",
   "name": "sos"
  },
  "language_info": {
   "codemirror_mode": "sos",
   "file_extension": ".sos",
   "mimetype": "text/x-sos",
   "name": "sos",
   "nbconvert_exporter": "sos_notebook.converter.SoS_Exporter",
   "pygments_lexer": "sos"
  },
  "sos": {
   "kernels": [
    [
     "SoS",
     "sos",
     "",
     "",
     "sos"
    ],
    [
     "markdown",
     "markdown",
     "markdown",
     "",
     ""
    ]
   ],
   "panel": {
    "displayed": true,
    "height": 0
   },
   "version": "0.20.5"
  }
 },
 "nbformat": 4,
 "nbformat_minor": 4
}
